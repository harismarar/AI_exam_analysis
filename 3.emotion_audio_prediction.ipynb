{
 "cells": [
  {
   "cell_type": "code",
   "execution_count": 6,
   "id": "a4c6b13d-172b-4110-bba2-bc8140637f75",
   "metadata": {},
   "outputs": [],
   "source": []
  },
  {
   "cell_type": "code",
   "execution_count": 7,
   "id": "c8d0ce18-2516-4a3d-93d4-a59624373e83",
   "metadata": {},
   "outputs": [
    {
     "name": "stdout",
     "output_type": "stream",
     "text": [
      "1/1 [==============================] - 0s 82ms/step\n",
      "Predicted Emotion: happy\n",
      "Emotion Score: 100\n",
      "Confidence Score: 100\n"
     ]
    }
   ],
   "source": [
    "import tensorflow as tf\n",
    "import numpy as np\n",
    "\n",
    "# Load the trained model\n",
    "model_path = \"D:/AI_interview/audio_confidence/AI_audio2.h5\"\n",
    "model = tf.keras.models.load_model(model_path)\n",
    "\n",
    "# Define emotion classes\n",
    "emotion_classes = [\"happy\", \"angry\", \"sad\", \"neutral\", \"calm\", \"fear\", \"disgust\", \"surprise\"]\n",
    "\n",
    "# Load and preprocess the audio file\n",
    "audio_path = \"D:/AI_interview/recorded/answer_4.wav\"\n",
    "# You may need to install a library like librosa for audio processing\n",
    "# pip install librosa\n",
    "import librosa\n",
    "\n",
    "# Load the audio file and extract features\n",
    "def extract_features(audio_path):\n",
    "    audio, sr = librosa.load(audio_path, sr=None)\n",
    "    mfccs = librosa.feature.mfcc(y=audio, sr=sr, n_mfcc=13)\n",
    "\n",
    "    # Pad or truncate the features to match the expected input shape (162 frames)\n",
    "    if mfccs.shape[1] < 162:\n",
    "        mfccs = np.pad(mfccs, ((0, 0), (0, 162 - mfccs.shape[1])))\n",
    "    else:\n",
    "        mfccs = mfccs[:, :162]\n",
    "\n",
    "    return mfccs\n",
    "\n",
    "# Preprocess the audio for model prediction\n",
    "input_data = extract_features(audio_path)\n",
    "input_data = np.expand_dims(input_data, axis=-1)  # Add channel dimension\n",
    "\n",
    "# Make predictions\n",
    "predictions = model.predict(input_data)\n",
    "\n",
    "# Map predictions to emotion classes\n",
    "predicted_class_index = np.argmax(predictions)\n",
    "predicted_emotion = emotion_classes[predicted_class_index]\n",
    "\n",
    "# Score the prediction\n",
    "emotion_score = 0\n",
    "confidence_score = 0\n",
    "\n",
    "if predicted_emotion in [\"happy\", \"calm\", \"neutral\"]:\n",
    "    emotion_score = 100\n",
    "    confidence_score = 100\n",
    "elif predicted_emotion in [\"sad\", \"fear\", \"surprise\"]:\n",
    "    emotion_score = 60\n",
    "else:  # [\"disgust\", \"angry\"]\n",
    "    emotion_score = 40\n",
    "\n",
    "# Print the results\n",
    "print(f\"Predicted Emotion: {predicted_emotion}\")\n",
    "print(f\"Emotion Score: {emotion_score}\")\n",
    "print(f\"Confidence Score: {confidence_score}\")\n"
   ]
  }
 ],
 "metadata": {
  "kernelspec": {
   "display_name": "final",
   "language": "python",
   "name": "final"
  },
  "language_info": {
   "codemirror_mode": {
    "name": "ipython",
    "version": 3
   },
   "file_extension": ".py",
   "mimetype": "text/x-python",
   "name": "python",
   "nbconvert_exporter": "python",
   "pygments_lexer": "ipython3",
   "version": "3.11.5"
  }
 },
 "nbformat": 4,
 "nbformat_minor": 5
}
